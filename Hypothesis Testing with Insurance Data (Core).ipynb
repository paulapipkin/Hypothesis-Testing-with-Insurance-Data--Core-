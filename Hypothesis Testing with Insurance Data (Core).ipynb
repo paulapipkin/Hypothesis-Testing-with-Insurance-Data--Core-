{
 "cells": [
  {
   "cell_type": "markdown",
   "id": "a94e61e4",
   "metadata": {},
   "source": [
    "#### Hypothesis Testing with Insurance Data (Core)\n",
    "- Paula Pipkin"
   ]
  },
  {
   "cell_type": "markdown",
   "id": "a64182e4",
   "metadata": {},
   "source": [
    "- Q1. Do smokers have higher insurance charges than non-smokers?\n",
    "- Q2. Are men more likely to smoke than women?\n",
    "- Q3. Do different regions have different charges, on average?"
   ]
  },
  {
   "cell_type": "markdown",
   "id": "7b68eaf2",
   "metadata": {},
   "source": [
    "For each question, make sure to:\n",
    "\n",
    "- State your Null Hypothesis and Alternative Hypothesis\n",
    "- Select the correct test according to the data type and number of samples\n",
    "- Test the assumptions of your selected test.\n",
    "- Execute the selected test, or the alternative test (if you do not meet the assumptions)\n",
    "- Interpret your p-value and reject or fail to reject your null hypothesis \n",
    "- Show a supporting visualization that helps display the result"
   ]
  },
  {
   "cell_type": "code",
   "execution_count": 57,
   "id": "6378b9ab",
   "metadata": {},
   "outputs": [],
   "source": [
    "import pandas as pd\n",
    "import numpy as np\n",
    "import scipy.stats as stats\n",
    "import matplotlib.pyplot as plt\n",
    "import seaborn as sns\n",
    "\n",
    "from statsmodels.stats.multicomp import pairwise_tukeyhsd"
   ]
  },
  {
   "cell_type": "code",
   "execution_count": 17,
   "id": "d2f95b26",
   "metadata": {},
   "outputs": [
    {
     "data": {
      "text/html": [
       "<div>\n",
       "<style scoped>\n",
       "    .dataframe tbody tr th:only-of-type {\n",
       "        vertical-align: middle;\n",
       "    }\n",
       "\n",
       "    .dataframe tbody tr th {\n",
       "        vertical-align: top;\n",
       "    }\n",
       "\n",
       "    .dataframe thead th {\n",
       "        text-align: right;\n",
       "    }\n",
       "</style>\n",
       "<table border=\"1\" class=\"dataframe\">\n",
       "  <thead>\n",
       "    <tr style=\"text-align: right;\">\n",
       "      <th></th>\n",
       "      <th>age</th>\n",
       "      <th>sex</th>\n",
       "      <th>bmi</th>\n",
       "      <th>children</th>\n",
       "      <th>smoker</th>\n",
       "      <th>region</th>\n",
       "      <th>charges</th>\n",
       "    </tr>\n",
       "  </thead>\n",
       "  <tbody>\n",
       "    <tr>\n",
       "      <th>0</th>\n",
       "      <td>19</td>\n",
       "      <td>female</td>\n",
       "      <td>27.900</td>\n",
       "      <td>0</td>\n",
       "      <td>yes</td>\n",
       "      <td>southwest</td>\n",
       "      <td>16884.92400</td>\n",
       "    </tr>\n",
       "    <tr>\n",
       "      <th>1</th>\n",
       "      <td>18</td>\n",
       "      <td>male</td>\n",
       "      <td>33.770</td>\n",
       "      <td>1</td>\n",
       "      <td>no</td>\n",
       "      <td>southeast</td>\n",
       "      <td>1725.55230</td>\n",
       "    </tr>\n",
       "    <tr>\n",
       "      <th>2</th>\n",
       "      <td>28</td>\n",
       "      <td>male</td>\n",
       "      <td>33.000</td>\n",
       "      <td>3</td>\n",
       "      <td>no</td>\n",
       "      <td>southeast</td>\n",
       "      <td>4449.46200</td>\n",
       "    </tr>\n",
       "    <tr>\n",
       "      <th>3</th>\n",
       "      <td>33</td>\n",
       "      <td>male</td>\n",
       "      <td>22.705</td>\n",
       "      <td>0</td>\n",
       "      <td>no</td>\n",
       "      <td>northwest</td>\n",
       "      <td>21984.47061</td>\n",
       "    </tr>\n",
       "    <tr>\n",
       "      <th>4</th>\n",
       "      <td>32</td>\n",
       "      <td>male</td>\n",
       "      <td>28.880</td>\n",
       "      <td>0</td>\n",
       "      <td>no</td>\n",
       "      <td>northwest</td>\n",
       "      <td>3866.85520</td>\n",
       "    </tr>\n",
       "  </tbody>\n",
       "</table>\n",
       "</div>"
      ],
      "text/plain": [
       "   age     sex     bmi  children smoker     region      charges\n",
       "0   19  female  27.900         0    yes  southwest  16884.92400\n",
       "1   18    male  33.770         1     no  southeast   1725.55230\n",
       "2   28    male  33.000         3     no  southeast   4449.46200\n",
       "3   33    male  22.705         0     no  northwest  21984.47061\n",
       "4   32    male  28.880         0     no  northwest   3866.85520"
      ]
     },
     "execution_count": 17,
     "metadata": {},
     "output_type": "execute_result"
    }
   ],
   "source": [
    "df = pd.read_csv('insurance - insurance.csv')\n",
    "df.head()"
   ]
  },
  {
   "cell_type": "markdown",
   "id": "7bb4664f",
   "metadata": {
    "heading_collapsed": true
   },
   "source": [
    "### Q1  Do smokers have higher insurance charges than non-smokers?"
   ]
  },
  {
   "cell_type": "markdown",
   "id": "d64e6734",
   "metadata": {
    "hidden": true
   },
   "source": [
    "- State your Null Hypothesis and Alternative Hypothesis\n",
    "\n",
    "        -Null - Smokers and not smokers have the same insurance charges\n",
    "        -Alternative - Charges differs between smokers and no smokers\n",
    "\n",
    "- Select the correct test according to the data type and number of samples\n",
    "\n",
    "        - T-Test 2 groups - independent\n"
   ]
  },
  {
   "cell_type": "code",
   "execution_count": 18,
   "id": "f5933fb1",
   "metadata": {
    "hidden": true
   },
   "outputs": [
    {
     "name": "stdout",
     "output_type": "stream",
     "text": [
      "For smokers (n=274): Mean=32050.23\n",
      "For not smoker (n=1064): Mean=8434.27\n"
     ]
    }
   ],
   "source": [
    "no_smoker = df.loc[ df['smoker']=='no',\"charges\"]\n",
    "smoker = df.loc[ df['smoker']=='yes',\"charges\"]\n",
    "\n",
    "## Getting means \n",
    "print(f\"For smokers (n={len(smoker)}): Mean={np.mean(smoker):.2f}\")\n",
    "print(f\"For not smoker (n={len(no_smoker)}): Mean={np.mean(no_smoker):.2f}\")"
   ]
  },
  {
   "cell_type": "markdown",
   "id": "1d930fb2",
   "metadata": {
    "hidden": true
   },
   "source": [
    "- Test the assumptions of your selected test.\n"
   ]
  },
  {
   "cell_type": "code",
   "execution_count": 19,
   "id": "91d8a3f1",
   "metadata": {
    "hidden": true
   },
   "outputs": [
    {
     "name": "stdout",
     "output_type": "stream",
     "text": [
      "Smokers outliers: 0\n",
      "NOT Smokers outliers: 24\n"
     ]
    }
   ],
   "source": [
    "# Outliers?\n",
    "zscores_s = stats.zscore(smoker)\n",
    "outliers_s = abs(zscores_s)>3\n",
    "print(f'Smokers outliers: {np.sum(outliers_s)}')\n",
    "\n",
    "zscores_ns = stats.zscore(no_smoker)\n",
    "outliers_ns = abs(zscores_ns)>3\n",
    "print(f'NOT Smokers outliers: {np.sum(outliers_ns)}')"
   ]
  },
  {
   "cell_type": "code",
   "execution_count": 20,
   "id": "efa2f8d0",
   "metadata": {
    "hidden": true
   },
   "outputs": [],
   "source": [
    "# remove outliers from not smokers\n",
    "no_smoker = no_smoker[(np.abs(stats.zscore(no_smoker)) < 3)]\n",
    "\n"
   ]
  },
  {
   "cell_type": "code",
   "execution_count": 22,
   "id": "01aa704b",
   "metadata": {
    "hidden": true
   },
   "outputs": [
    {
     "data": {
      "text/plain": [
       "False"
      ]
     },
     "execution_count": 22,
     "metadata": {},
     "output_type": "execute_result"
    }
   ],
   "source": [
    "#Test for normality\n",
    "\n",
    "result_s = stats.normaltest(smoker)\n",
    "result_s[1]>0.05\n",
    "\n"
   ]
  },
  {
   "cell_type": "code",
   "execution_count": 23,
   "id": "5c2b8028",
   "metadata": {
    "hidden": true
   },
   "outputs": [
    {
     "data": {
      "text/plain": [
       "False"
      ]
     },
     "execution_count": 23,
     "metadata": {},
     "output_type": "execute_result"
    }
   ],
   "source": [
    "result_ns = stats.normaltest(no_smoker)\n",
    "result_ns[1]>0.05"
   ]
  },
  {
   "cell_type": "code",
   "execution_count": 24,
   "id": "7231bfcb",
   "metadata": {
    "hidden": true
   },
   "outputs": [],
   "source": [
    "#Both are not normal (p < alpha) but both samples are largers than 30 so I'll proceed"
   ]
  },
  {
   "cell_type": "code",
   "execution_count": 25,
   "id": "cfc8760b",
   "metadata": {
    "hidden": true
   },
   "outputs": [
    {
     "data": {
      "text/plain": [
       "LeveneResult(statistic=520.7468821724297, pvalue=2.4247238784347824e-97)"
      ]
     },
     "execution_count": 25,
     "metadata": {},
     "output_type": "execute_result"
    }
   ],
   "source": [
    "result = stats.levene(smoker, no_smoker)\n",
    "result"
   ]
  },
  {
   "cell_type": "code",
   "execution_count": null,
   "id": "f43ff85d",
   "metadata": {
    "hidden": true
   },
   "outputs": [],
   "source": [
    "#No equal variance so I will apply the test using equal_var = False\n"
   ]
  },
  {
   "cell_type": "markdown",
   "id": "d097c71a",
   "metadata": {
    "hidden": true
   },
   "source": [
    "- Execute the selected test, or the alternative test (if you do not meet the assumptions)\n"
   ]
  },
  {
   "cell_type": "code",
   "execution_count": 27,
   "id": "5df652b6",
   "metadata": {
    "hidden": true
   },
   "outputs": [
    {
     "data": {
      "text/plain": [
       "Ttest_indResult(statistic=-33.732305987092516, pvalue=2.575322662587431e-104)"
      ]
     },
     "execution_count": 27,
     "metadata": {},
     "output_type": "execute_result"
    }
   ],
   "source": [
    "## Final t-test, after confirming we meet the assumptions\n",
    "result = stats.ttest_ind(no_smoker, smoker, equal_var = False )\n",
    "result\n",
    "\n"
   ]
  },
  {
   "cell_type": "markdown",
   "id": "067df364",
   "metadata": {
    "hidden": true
   },
   "source": [
    "- Interpret your p-value and reject or fail to reject your null hypothesis \n"
   ]
  },
  {
   "cell_type": "code",
   "execution_count": null,
   "id": "7d605809",
   "metadata": {
    "hidden": true
   },
   "outputs": [],
   "source": [
    "# P value is smaller than alpha, there is significant result to reject the null \n",
    "#  hipotesis, we can affirm that there is a difference between the charges for smokers and no smokers"
   ]
  },
  {
   "cell_type": "markdown",
   "id": "99b855af",
   "metadata": {
    "hidden": true
   },
   "source": [
    "- Show a supporting visualization that helps display the result"
   ]
  },
  {
   "cell_type": "code",
   "execution_count": 41,
   "id": "ea943f7e",
   "metadata": {
    "hidden": true
   },
   "outputs": [
    {
     "data": {
      "image/png": "[encoded data removed]",
      "text/plain": [
       "<Figure size 1000x500 with 2 Axes>"
      ]
     },
     "metadata": {},
     "output_type": "display_data"
    }
   ],
   "source": [
    "palette={'yes':'dodgerblue', 'no':'salmon'}\n",
    "## Visualizing Sample means\n",
    "fig, (ax,ax_bar) = plt.subplots(figsize= (10,5), ncols=2, \n",
    "                                constrained_layout=True,\n",
    "                                gridspec_kw={'width_ratios':[0.8,0.2]})\n",
    "\n",
    "\n",
    "# Histogram\n",
    "ax = sns.histplot(data=df, x='charges',fill=True,hue='smoker',kde=True,\n",
    "                  stat='density',common_norm=False,ax=ax,\n",
    "                  palette=palette)\n",
    "\n",
    "ax.axvline(np.mean(smoker), ls='--',lw=3, \n",
    "           label=f\"Smokers (Mean= ${np.mean(smoker):,.2f})\",color=palette['yes'])\n",
    "\n",
    "ax.axvline(np.mean(no_smoker), ls='--', lw=3, \n",
    "           label=f\"Not Smokers (Mean= ${np.mean(no_smoker):,.2f})\",color=palette['no'])\n",
    "\n",
    "ax.legend(prop={\"size\":10}, loc='upper right')\n",
    "\n",
    "## Barplot\n",
    "\n",
    "sns.barplot(data=df, x='smoker',y='charges',ax = ax_bar,palette=palette)\n",
    "fig.suptitle('Comparison of charge by smoke status',fontsize='xx-large');"
   ]
  },
  {
   "cell_type": "code",
   "execution_count": null,
   "id": "b3be563d",
   "metadata": {
    "hidden": true
   },
   "outputs": [],
   "source": []
  },
  {
   "cell_type": "markdown",
   "id": "7545f054",
   "metadata": {
    "heading_collapsed": true
   },
   "source": [
    "### Q2  Are men more likely to smoke than women?"
   ]
  },
  {
   "cell_type": "markdown",
   "id": "b4d3acd7",
   "metadata": {
    "hidden": true
   },
   "source": [
    "- State your Null Hypothesis and Alternative Hypothesis\n",
    "\n",
    "        -Null - Men and Women smoke at the same rate\n",
    "        -Alternative - smoking rates differ between men and women\n",
    "\n",
    "- Select the correct test according to the data type and number of samples\n",
    "\n",
    "        - Chi-Square 2 groups - categorical\n"
   ]
  },
  {
   "cell_type": "markdown",
   "id": "c9ef4d5c",
   "metadata": {
    "hidden": true
   },
   "source": [
    "- Assumptions \n",
    "\n",
    "    - There are two categorical variables (ordinal or nominal) [x]\n",
    "    - The outcomes are independent[x]"
   ]
  },
  {
   "cell_type": "markdown",
   "id": "016ec2f6",
   "metadata": {
    "hidden": true
   },
   "source": [
    "- Execute the selected test, or the alternative test (if you do not meet the assumptions)\n"
   ]
  },
  {
   "cell_type": "code",
   "execution_count": 43,
   "id": "56ad8de8",
   "metadata": {
    "hidden": true
   },
   "outputs": [
    {
     "data": {
      "text/html": [
       "<div>\n",
       "<style scoped>\n",
       "    .dataframe tbody tr th:only-of-type {\n",
       "        vertical-align: middle;\n",
       "    }\n",
       "\n",
       "    .dataframe tbody tr th {\n",
       "        vertical-align: top;\n",
       "    }\n",
       "\n",
       "    .dataframe thead th {\n",
       "        text-align: right;\n",
       "    }\n",
       "</style>\n",
       "<table border=\"1\" class=\"dataframe\">\n",
       "  <thead>\n",
       "    <tr style=\"text-align: right;\">\n",
       "      <th>smoker</th>\n",
       "      <th>no</th>\n",
       "      <th>yes</th>\n",
       "    </tr>\n",
       "    <tr>\n",
       "      <th>sex</th>\n",
       "      <th></th>\n",
       "      <th></th>\n",
       "    </tr>\n",
       "  </thead>\n",
       "  <tbody>\n",
       "    <tr>\n",
       "      <th>female</th>\n",
       "      <td>547</td>\n",
       "      <td>115</td>\n",
       "    </tr>\n",
       "    <tr>\n",
       "      <th>male</th>\n",
       "      <td>517</td>\n",
       "      <td>159</td>\n",
       "    </tr>\n",
       "  </tbody>\n",
       "</table>\n",
       "</div>"
      ],
      "text/plain": [
       "smoker   no  yes\n",
       "sex             \n",
       "female  547  115\n",
       "male    517  159"
      ]
     },
     "execution_count": 43,
     "metadata": {},
     "output_type": "execute_result"
    }
   ],
   "source": [
    "# calculate the contingency table with pd.cross-tab\n",
    "table = pd.crosstab(df['sex'], df['smoker'])\n",
    "table\n",
    "\n"
   ]
  },
  {
   "cell_type": "code",
   "execution_count": 44,
   "id": "befb172c",
   "metadata": {
    "hidden": true
   },
   "outputs": [
    {
     "name": "stdout",
     "output_type": "stream",
     "text": [
      "False\n"
     ]
    }
   ],
   "source": [
    "# Run the Test and Save the Output\n",
    "result = stats.chi2_contingency(table)\n",
    "chi2, p, deg_free, expected_vals = result \n",
    "\n",
    "print(p>0.05)"
   ]
  },
  {
   "cell_type": "markdown",
   "id": "5be9795b",
   "metadata": {
    "hidden": true
   },
   "source": [
    "This means that we accept the alternate hypothesis and conclude that there is a relationship between a gender and smoking."
   ]
  },
  {
   "cell_type": "code",
   "execution_count": 45,
   "id": "55e0a2fe",
   "metadata": {
    "hidden": true
   },
   "outputs": [
    {
     "data": {
      "image/png": "[encoded data removed]",
      "text/plain": [
       "<Figure size 640x480 with 1 Axes>"
      ]
     },
     "metadata": {},
     "output_type": "display_data"
    }
   ],
   "source": [
    "ax = sns.countplot(data=df, x='sex',hue='smoker',)\n",
    "ax.set_title(\"Number of Smokers by Sex\");\n",
    "\n"
   ]
  },
  {
   "cell_type": "markdown",
   "id": "73acd92e",
   "metadata": {
    "heading_collapsed": true
   },
   "source": [
    "### Q3 Do different regions have different charges, on average?"
   ]
  },
  {
   "cell_type": "markdown",
   "id": "6d33dd09",
   "metadata": {
    "hidden": true
   },
   "source": [
    "- State your Null Hypothesis and Alternative Hypothesis\n",
    "\n",
    "        -Null - different regions have the same insurance charges on average\n",
    "        -Alternative - Charges differs from region to region\n",
    "\n",
    "- Select the correct test according to the data type and number of samples\n",
    "\n",
    "        - ANOVA and/or Tukey - Many numerical groups\n"
   ]
  },
  {
   "cell_type": "code",
   "execution_count": 47,
   "id": "201ed8e6",
   "metadata": {
    "hidden": true
   },
   "outputs": [
    {
     "data": {
      "text/plain": [
       "array(['southwest', 'southeast', 'northwest', 'northeast'], dtype=object)"
      ]
     },
     "execution_count": 47,
     "metadata": {},
     "output_type": "execute_result"
    }
   ],
   "source": [
    "df['region'].unique()"
   ]
  },
  {
   "cell_type": "markdown",
   "id": "b800c5b5",
   "metadata": {
    "hidden": true
   },
   "source": [
    "- Test the assumptions of your selected test."
   ]
  },
  {
   "cell_type": "code",
   "execution_count": 49,
   "id": "e2604269",
   "metadata": {
    "hidden": true
   },
   "outputs": [
    {
     "data": {
      "text/plain": [
       "dict_keys(['southwest', 'southeast', 'northwest', 'northeast'])"
      ]
     },
     "execution_count": 49,
     "metadata": {},
     "output_type": "execute_result"
    }
   ],
   "source": [
    "## Create groups dictionary. \n",
    "groups = {}\n",
    "## Loop through all unique categories\n",
    "for i in df['region'].unique():\n",
    "    ## Get series for group and rename\n",
    "    data = df.loc[df['region']==i,'charges'].copy()\n",
    "    \n",
    "    # save into the dictionary\n",
    "    groups[i] = data\n",
    "groups.keys()\n",
    "\n"
   ]
  },
  {
   "cell_type": "code",
   "execution_count": 54,
   "id": "64432278",
   "metadata": {
    "hidden": true
   },
   "outputs": [
    {
     "data": {
      "text/html": [
       "<div>\n",
       "<style scoped>\n",
       "    .dataframe tbody tr th:only-of-type {\n",
       "        vertical-align: middle;\n",
       "    }\n",
       "\n",
       "    .dataframe tbody tr th {\n",
       "        vertical-align: top;\n",
       "    }\n",
       "\n",
       "    .dataframe thead th {\n",
       "        text-align: right;\n",
       "    }\n",
       "</style>\n",
       "<table border=\"1\" class=\"dataframe\">\n",
       "  <thead>\n",
       "    <tr style=\"text-align: right;\">\n",
       "      <th></th>\n",
       "      <th>n</th>\n",
       "      <th>p</th>\n",
       "      <th>test stat</th>\n",
       "      <th>mean</th>\n",
       "    </tr>\n",
       "  </thead>\n",
       "  <tbody>\n",
       "    <tr>\n",
       "      <th>southwest</th>\n",
       "      <td>325.0</td>\n",
       "      <td>6.125298e-23</td>\n",
       "      <td>102.294059</td>\n",
       "      <td>12346.937377</td>\n",
       "    </tr>\n",
       "    <tr>\n",
       "      <th>southeast</th>\n",
       "      <td>364.0</td>\n",
       "      <td>4.953297e-15</td>\n",
       "      <td>65.877446</td>\n",
       "      <td>14735.411438</td>\n",
       "    </tr>\n",
       "    <tr>\n",
       "      <th>northwest</th>\n",
       "      <td>325.0</td>\n",
       "      <td>5.184209e-24</td>\n",
       "      <td>107.232850</td>\n",
       "      <td>12417.575374</td>\n",
       "    </tr>\n",
       "    <tr>\n",
       "      <th>northeast</th>\n",
       "      <td>324.0</td>\n",
       "      <td>1.455431e-19</td>\n",
       "      <td>86.747629</td>\n",
       "      <td>13406.384516</td>\n",
       "    </tr>\n",
       "  </tbody>\n",
       "</table>\n",
       "</div>"
      ],
      "text/plain": [
       "               n             p   test stat          mean\n",
       "southwest  325.0  6.125298e-23  102.294059  12346.937377\n",
       "southeast  364.0  4.953297e-15   65.877446  14735.411438\n",
       "northwest  325.0  5.184209e-24  107.232850  12417.575374\n",
       "northeast  324.0  1.455431e-19   86.747629  13406.384516"
      ]
     },
     "execution_count": 54,
     "metadata": {},
     "output_type": "execute_result"
    }
   ],
   "source": [
    "#No significant outliers\n",
    "#Equal variance\n",
    "#Normality\n",
    "\n",
    "## Running normal test on each group and confirming there are >20 in each group\n",
    "\n",
    "norm_results = {}\n",
    "for i, data in groups.items():\n",
    "    stat, p = stats.normaltest(data)\n",
    "    ## save the p val, test statistic, and the size of the group\n",
    "    norm_results[i] = {'n': len(data),\n",
    "                             'p':p,\n",
    "                             'test stat':stat,'mean':np.mean(data)}\n",
    "## convert to a dataframe\n",
    "norm_results_df = pd.DataFrame(norm_results).T #T for transpose row vs cols\n",
    "norm_results_df\n",
    "\n"
   ]
  },
  {
   "cell_type": "code",
   "execution_count": 51,
   "id": "45ef739c",
   "metadata": {
    "hidden": true
   },
   "outputs": [],
   "source": [
    "# none of the groups has a normal distribution but they are all large enough"
   ]
  },
  {
   "cell_type": "code",
   "execution_count": 52,
   "id": "4b7bd751",
   "metadata": {
    "hidden": true
   },
   "outputs": [
    {
     "data": {
      "text/plain": [
       "LeveneResult(statistic=5.559966758410606, pvalue=0.0008610590250786703)"
      ]
     },
     "execution_count": 52,
     "metadata": {},
     "output_type": "execute_result"
    }
   ],
   "source": [
    "# with the * operator \n",
    "stats.levene(*groups.values())\n"
   ]
  },
  {
   "cell_type": "code",
   "execution_count": 53,
   "id": "e3bf55ce",
   "metadata": {
    "hidden": true
   },
   "outputs": [],
   "source": [
    "# no nomrmality I will use"
   ]
  },
  {
   "cell_type": "code",
   "execution_count": 55,
   "id": "82012a52",
   "metadata": {
    "hidden": true
   },
   "outputs": [
    {
     "data": {
      "text/plain": [
       "KruskalResult(statistic=4.734181215658743, pvalue=0.19232908072121002)"
      ]
     },
     "execution_count": 55,
     "metadata": {},
     "output_type": "execute_result"
    }
   ],
   "source": [
    "\n",
    "results = stats.kruskal(*groups.values())\n",
    "results\n"
   ]
  },
  {
   "cell_type": "code",
   "execution_count": 58,
   "id": "5e0076c0",
   "metadata": {
    "hidden": true
   },
   "outputs": [],
   "source": [
    "# Now that we KNOW we have significant differences, we are allowed to perform pairwise comparisons between every group.\n",
    "\n",
    "\n",
    "## save the values as kg_lost and the labels to the Diet\n",
    "values = df['charges']\n",
    "labels = df['region']\n",
    "\n"
   ]
  },
  {
   "cell_type": "code",
   "execution_count": 59,
   "id": "c5fe2c3e",
   "metadata": {
    "hidden": true
   },
   "outputs": [
    {
     "data": {
      "text/html": [
       "<table class=\"simpletable\">\n",
       "<caption>Multiple Comparison of Means - Tukey HSD, FWER=0.05</caption>\n",
       "<tr>\n",
       "   <th>group1</th>    <th>group2</th>    <th>meandiff</th>   <th>p-adj</th>    <th>lower</th>     <th>upper</th>   <th>reject</th>\n",
       "</tr>\n",
       "<tr>\n",
       "  <td>northeast</td> <td>northwest</td>  <td>-988.8091</td> <td>0.7245</td> <td>-3428.9343</td> <td>1451.3161</td>  <td>False</td>\n",
       "</tr>\n",
       "<tr>\n",
       "  <td>northeast</td> <td>southeast</td>  <td>1329.0269</td> <td>0.4745</td> <td>-1044.9417</td> <td>3702.9955</td>  <td>False</td>\n",
       "</tr>\n",
       "<tr>\n",
       "  <td>northeast</td> <td>southwest</td> <td>-1059.4471</td> <td>0.6792</td> <td>-3499.5723</td> <td>1380.6781</td>  <td>False</td>\n",
       "</tr>\n",
       "<tr>\n",
       "  <td>northwest</td> <td>southeast</td>  <td>2317.8361</td> <td>0.0583</td>  <td>-54.1994</td>  <td>4689.8716</td>  <td>False</td>\n",
       "</tr>\n",
       "<tr>\n",
       "  <td>northwest</td> <td>southwest</td>   <td>-70.638</td>  <td>0.9999</td> <td>-2508.8826</td> <td>2367.6066</td>  <td>False</td>\n",
       "</tr>\n",
       "<tr>\n",
       "  <td>southeast</td> <td>southwest</td> <td>-2388.4741</td> <td>0.0477</td> <td>-4760.5096</td> <td>-16.4386</td>   <td>True</td> \n",
       "</tr>\n",
       "</table>"
      ],
      "text/plain": [
       "<class 'statsmodels.iolib.table.SimpleTable'>"
      ]
     },
     "execution_count": 59,
     "metadata": {},
     "output_type": "execute_result"
    }
   ],
   "source": [
    "## perform tukey's multiple comparison test and display the summary\n",
    "tukeys_results = pairwise_tukeyhsd(values,labels)\n",
    "tukeys_results.summary()\n"
   ]
  },
  {
   "cell_type": "code",
   "execution_count": 62,
   "id": "6cfe5ea9",
   "metadata": {
    "hidden": true
   },
   "outputs": [],
   "source": [
    "# The only significant difference is between southwest and southeast according to the tukey test"
   ]
  },
  {
   "cell_type": "code",
   "execution_count": 60,
   "id": "e9b139e7",
   "metadata": {
    "hidden": true
   },
   "outputs": [
    {
     "data": {
      "image/png": "[encoded data removed]",
      "text/plain": [
       "<Figure size 640x480 with 1 Axes>"
      ]
     },
     "metadata": {},
     "output_type": "display_data"
    }
   ],
   "source": [
    "sns.barplot(data=df, x='region',y='charges');\n",
    "\n"
   ]
  },
  {
   "cell_type": "code",
   "execution_count": null,
   "id": "37ad6df2",
   "metadata": {
    "hidden": true
   },
   "outputs": [],
   "source": []
  }
 ],
 "metadata": {
  "kernelspec": {
   "display_name": "Python (dojo-env)",
   "language": "python",
   "name": "dojo-env"
  },
  "language_info": {
   "codemirror_mode": {
    "name": "ipython",
    "version": 3
   },
   "file_extension": ".py",
   "mimetype": "text/x-python",
   "name": "python",
   "nbconvert_exporter": "python",
   "pygments_lexer": "ipython3",
   "version": "3.8.13"
  },
  "toc": {
   "base_numbering": 1,
   "nav_menu": {},
   "number_sections": false,
   "sideBar": true,
   "skip_h1_title": false,
   "title_cell": "Table of Contents",
   "title_sidebar": "Contents",
   "toc_cell": false,
   "toc_position": {},
   "toc_section_display": true,
   "toc_window_display": false
  }
 },
 "nbformat": 4,
 "nbformat_minor": 5
}
